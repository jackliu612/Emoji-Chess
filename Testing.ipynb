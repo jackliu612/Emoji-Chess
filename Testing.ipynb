{
 "cells": [
  {
   "cell_type": "code",
   "execution_count": 3,
   "metadata": {},
   "outputs": [],
   "source": [
    "# Notebook for testing during coding process\n",
    "# Author: Jack Liu\n",
    "# 12/27/2019"
   ]
  },
  {
   "cell_type": "code",
   "execution_count": 41,
   "metadata": {},
   "outputs": [
    {
     "data": {
      "text/plain": [
       "'rnbqkbnr/pppppppp/8/8/8/8/PPPPPPPP/RNBQKBNR w KQkq - 0 1'"
      ]
     },
     "execution_count": 41,
     "metadata": {},
     "output_type": "execute_result"
    }
   ],
   "source": [
    "from Chess import Chess\n",
    "chs = Chess()\n",
    "chs.to_string()"
   ]
  },
  {
   "cell_type": "code",
   "execution_count": 5,
   "metadata": {},
   "outputs": [
    {
     "data": {
      "text/plain": [
       "True"
      ]
     },
     "execution_count": 5,
     "metadata": {},
     "output_type": "execute_result"
    }
   ],
   "source": [
    "chs.move('nb1d2')"
   ]
  },
  {
   "cell_type": "code",
   "execution_count": 6,
   "metadata": {},
   "outputs": [
    {
     "data": {
      "text/plain": [
       "'rnbqkbnr/pppppppp/8/8/8/8/PPPNPPPP/R1BQKBNR b KQkq - 0 1'"
      ]
     },
     "execution_count": 6,
     "metadata": {},
     "output_type": "execute_result"
    }
   ],
   "source": [
    "chs.to_string()"
   ]
  },
  {
   "cell_type": "code",
   "execution_count": 7,
   "metadata": {},
   "outputs": [
    {
     "data": {
      "text/plain": [
       "False"
      ]
     },
     "execution_count": 7,
     "metadata": {},
     "output_type": "execute_result"
    }
   ],
   "source": [
    "chs.move('nd2b1')"
   ]
  },
  {
   "cell_type": "code",
   "execution_count": 8,
   "metadata": {},
   "outputs": [
    {
     "name": "stdout",
     "output_type": "stream",
     "text": [
      "⬛⬜⬛⬜⬛⬜⬛⬜\n",
      "⬜⬛⬜⬛⬜⬛⬜⬛\n",
      "⬛⬜⬛⬜⬛⬜⬛⬜\n",
      "⬜⬛⬜⬛⬜⬛⬜⬛\n",
      "⬛⬜⬛⬜⬛⬜⬛⬜\n",
      "⬜⬛⬜⬛⬜⬛⬜⬛\n",
      "⬛⬜⬛⬜⬛⬜⬛⬜\n",
      "⬜⬛⬜⬛⬜⬛⬜⬛\n"
     ]
    }
   ],
   "source": [
    "print('\\U00002B1B\\U00002B1C\\U00002B1B\\U00002B1C\\U00002B1B\\U00002B1C\\U00002B1B\\U00002B1C')\n",
    "print('\\U00002B1C\\U00002B1B\\U00002B1C\\U00002B1B\\U00002B1C\\U00002B1B\\U00002B1C\\U00002B1B')\n",
    "print('\\U00002B1B\\U00002B1C\\U00002B1B\\U00002B1C\\U00002B1B\\U00002B1C\\U00002B1B\\U00002B1C')\n",
    "print('\\U00002B1C\\U00002B1B\\U00002B1C\\U00002B1B\\U00002B1C\\U00002B1B\\U00002B1C\\U00002B1B')\n",
    "print('\\U00002B1B\\U00002B1C\\U00002B1B\\U00002B1C\\U00002B1B\\U00002B1C\\U00002B1B\\U00002B1C')\n",
    "print('\\U00002B1C\\U00002B1B\\U00002B1C\\U00002B1B\\U00002B1C\\U00002B1B\\U00002B1C\\U00002B1B')\n",
    "print('\\U00002B1B\\U00002B1C\\U00002B1B\\U00002B1C\\U00002B1B\\U00002B1C\\U00002B1B\\U00002B1C')\n",
    "print('\\U00002B1C\\U00002B1B\\U00002B1C\\U00002B1B\\U00002B1C\\U00002B1B\\U00002B1C\\U00002B1B')"
   ]
  },
  {
   "cell_type": "code",
   "execution_count": 9,
   "metadata": {},
   "outputs": [],
   "source": [
    "def to_string(board):\n",
    "    to_return = ''\n",
    "    row_temp = ''\n",
    "    s_count = 0\n",
    "    for row in board:\n",
    "        for space in row:\n",
    "            if space is not '':\n",
    "                if s_count is not 0:\n",
    "                    row_temp += str(s_count)\n",
    "                    s_count = 0\n",
    "                row_temp += space\n",
    "            else:\n",
    "                s_count += 1\n",
    "        if s_count is not 0:\n",
    "            row_temp += str(s_count)\n",
    "            s_count = 0\n",
    "        to_return = row_temp+'/'+to_return\n",
    "        row_temp = ''\n",
    "    to_return = to_return[0:-1]\n",
    "    return to_return"
   ]
  },
  {
   "cell_type": "code",
   "execution_count": 101,
   "metadata": {},
   "outputs": [],
   "source": [
    "def emojify_chess(chs):\n",
    "    temp = [[],[],[],[],[],[],[],[]]\n",
    "    for r in range(7,-1,-1):\n",
    "        for c in range(0,8):\n",
    "            if chs.board[r][c] is '':\n",
    "                if (r+c)%2 is 0:\n",
    "                    temp[7-r].append('\\U00002B1B')\n",
    "                else:\n",
    "                    temp[7-r].append('\\U00002B1C')\n",
    "            else:\n",
    "                temp[7-r].append(emoji_map[chs.board[r][c]])\n",
    "    to_return = ''\n",
    "    for r in temp:\n",
    "        for c in r:\n",
    "            to_return+=c\n",
    "        to_return +='\\n'\n",
    "    return to_return"
   ]
  },
  {
   "cell_type": "code",
   "execution_count": 83,
   "metadata": {},
   "outputs": [
    {
     "name": "stdout",
     "output_type": "stream",
     "text": [
      "🤴🏻\n",
      "👊\n"
     ]
    }
   ],
   "source": [
    "print('\\U0001F934\\U0001F3FB')\n",
    "print('\\U0001F44A')"
   ]
  },
  {
   "cell_type": "code",
   "execution_count": 84,
   "metadata": {},
   "outputs": [],
   "source": [
    "emoji_map = {}\n",
    "emoji_map['P'] = '\\U0001F476\\U0001F3FB'\n",
    "emoji_map['R'] = '\\U0001F44A\\U0001F3FB'\n",
    "emoji_map['N'] = '\\U0001F984'\n",
    "emoji_map['B'] = '\\U0001F645\\U0001F3FB\\U0000200D\\U00002642\\U0000FE0F'\n",
    "emoji_map['Q'] = '\\U0001F478\\U0001F3FB'\n",
    "emoji_map['K'] = '\\U0001F934\\U0001F3FB'\n",
    "\n",
    "emoji_map['p'] = '\\U0001F476\\U0001F3FF'\n",
    "emoji_map['r'] = '\\U0001F44A\\U0001F3FF'\n",
    "emoji_map['n'] = '\\U0001F40E'\n",
    "emoji_map['b'] = '\\U0001F645\\U0001F3FF\\U0000200D\\U00002642\\U0000FE0F'\n",
    "emoji_map['q'] = '\\U0001F478\\U0001F3FF'\n",
    "emoji_map['k'] = '\\U0001F934\\U0001F3FF'"
   ]
  },
  {
   "cell_type": "code",
   "execution_count": 104,
   "metadata": {},
   "outputs": [
    {
     "name": "stdout",
     "output_type": "stream",
     "text": [
      "👊🏿🐎🙅🏿‍♂️👸🏿🤴🏿🙅🏿‍♂️🐎👊🏿\n",
      "👶🏿👶🏿👶🏿👶🏿⬛👶🏿👶🏿👶🏿\n",
      "⬜⬛⬜⬛⬜⬛⬜⬛\n",
      "⬛⬜⬛⬜👶🏿⬜⬛⬜\n",
      "⬜⬛⬜⬛👶🏻⬛⬜⬛\n",
      "⬛⬜⬛⬜⬛⬜⬛⬜\n",
      "👶🏻👶🏻👶🏻👶🏻⬜👶🏻👶🏻👶🏻\n",
      "👊🏻🦄🙅🏻‍♂️👸🏻🤴🏻🙅🏻‍♂️🦄👊🏻\n",
      "\n"
     ]
    }
   ],
   "source": [
    "chs.move('pe7e5')\n",
    "print(emojify_chess(chs))"
   ]
  },
  {
   "cell_type": "code",
   "execution_count": 93,
   "metadata": {},
   "outputs": [
    {
     "data": {
      "text/plain": [
       "<Chess.Chess at 0x237b2c487b8>"
      ]
     },
     "execution_count": 93,
     "metadata": {},
     "output_type": "execute_result"
    }
   ],
   "source": [
    "chs"
   ]
  },
  {
   "cell_type": "code",
   "execution_count": 96,
   "metadata": {},
   "outputs": [
    {
     "data": {
      "text/plain": [
       "[['R', 'N', 'B', 'Q', 'K', 'B', 'N', 'R'],\n",
       " ['P', 'P', 'P', 'P', '', 'P', 'P', 'P'],\n",
       " ['', '', '', '', '', '', '', ''],\n",
       " ['', '', '', '', 'P', '', '', ''],\n",
       " ['', '', '', '', '', '', '', ''],\n",
       " ['', '', '', '', '', '', '', ''],\n",
       " ['p', 'p', 'p', 'p', 'p', 'p', 'p', 'p'],\n",
       " ['r', 'n', 'b', 'q', 'k', 'b', 'n', 'r']]"
      ]
     },
     "execution_count": 96,
     "metadata": {},
     "output_type": "execute_result"
    }
   ],
   "source": [
    "chs.board"
   ]
  },
  {
   "cell_type": "code",
   "execution_count": null,
   "metadata": {},
   "outputs": [],
   "source": []
  }
 ],
 "metadata": {
  "kernelspec": {
   "display_name": "Python 3",
   "language": "python",
   "name": "python3"
  },
  "language_info": {
   "codemirror_mode": {
    "name": "ipython",
    "version": 3
   },
   "file_extension": ".py",
   "mimetype": "text/x-python",
   "name": "python",
   "nbconvert_exporter": "python",
   "pygments_lexer": "ipython3",
   "version": "3.7.3"
  }
 },
 "nbformat": 4,
 "nbformat_minor": 2
}
