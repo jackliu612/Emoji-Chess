{
 "cells": [
  {
   "cell_type": "code",
   "execution_count": 1,
   "metadata": {},
   "outputs": [],
   "source": [
    "# Notebook for testing during coding process\n",
    "# Author: Jack Liu\n",
    "# 12/27/2019"
   ]
  },
  {
   "cell_type": "code",
   "execution_count": 3,
   "metadata": {},
   "outputs": [
    {
     "data": {
      "text/plain": [
       "'rnbqkbnr/pppppppp/8/8/8/8/PPPPPPPP/RNBQKBNR w KQkq - 0 1'"
      ]
     },
     "execution_count": 3,
     "metadata": {},
     "output_type": "execute_result"
    }
   ],
   "source": [
    "import pyperclip\n",
    "import re\n",
    "from Chess import EmojiChess\n",
    "chs = EmojiChess()\n",
    "chs.to_string()"
   ]
  },
  {
   "cell_type": "code",
   "execution_count": 4,
   "metadata": {},
   "outputs": [
    {
     "name": "stdout",
     "output_type": "stream",
     "text": [
      "👊🏿🐎🙅🏿‍♂️👸🏿🤴🏿🙅🏿‍♂️🐎👊🏿\n",
      "👶🏿👶🏿👶🏿👶🏿👶🏿👶🏿👶🏿👶🏿\n",
      "⬜⬛⬜⬛⬜⬛⬜⬛\n",
      "⬛⬜⬛⬜⬛⬜⬛⬜\n",
      "⬜⬛⬜⬛⬜⬛⬜⬛\n",
      "⬛⬜⬛⬜⬛⬜⬛⬜\n",
      "👶🏻👶🏻👶🏻👶🏻👶🏻👶🏻👶🏻👶🏻\n",
      "👊🏻🦄🙅🏻‍♂️👸🏻🤴🏻🙅🏻‍♂️🦄👊🏻\n",
      "\n"
     ]
    }
   ],
   "source": [
    "chs.move('pe7e5')\n",
    "pyperclip.copy(chs.emoji_string())\n",
    "print(pyperclip.paste())"
   ]
  },
  {
   "cell_type": "code",
   "execution_count": 36,
   "metadata": {},
   "outputs": [],
   "source": [
    "def check_move(move):\n",
    "    if re.match(\"^[prnbkq][a-h]\\d$\", move, re.IGNORECASE):\n",
    "        print('piece + end')\n",
    "    elif re.match(\"^[prnbkq][a-h]{2}\\d$\", move, re.IGNORECASE):\n",
    "        print('piece + column + end')\n",
    "    elif re.match(\"^[prnbkq]\\d[a-h]\\d$\", move, re.IGNORECASE):\n",
    "        print('piece + row + end')\n",
    "    elif re.match(\"^[prnbkq]([a-h]\\d){2}$\", move, re.IGNORECASE):\n",
    "        print('piece + beginning + end')\n",
    "    elif re.match(\"^[a-h]\\d$\", move, re.IGNORECASE):\n",
    "        print('end')\n",
    "    else:\n",
    "        print('invalid move')"
   ]
  },
  {
   "cell_type": "code",
   "execution_count": 37,
   "metadata": {},
   "outputs": [
    {
     "name": "stdout",
     "output_type": "stream",
     "text": [
      "piece + beginning + end\n"
     ]
    }
   ],
   "source": [
    "check_move('pc5e2')"
   ]
  },
  {
   "cell_type": "code",
   "execution_count": null,
   "metadata": {},
   "outputs": [],
   "source": []
  }
 ],
 "metadata": {
  "kernelspec": {
   "display_name": "Python 3",
   "language": "python",
   "name": "python3"
  },
  "language_info": {
   "codemirror_mode": {
    "name": "ipython",
    "version": 3
   },
   "file_extension": ".py",
   "mimetype": "text/x-python",
   "name": "python",
   "nbconvert_exporter": "python",
   "pygments_lexer": "ipython3",
   "version": "3.7.4"
  }
 },
 "nbformat": 4,
 "nbformat_minor": 2
}
