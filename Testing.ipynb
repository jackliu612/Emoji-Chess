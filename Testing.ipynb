{
 "cells": [
  {
   "cell_type": "code",
   "execution_count": 1,
   "metadata": {},
   "outputs": [],
   "source": [
    "# Notebook for testing during coding process\n",
    "# Author: Jack Liu\n",
    "# 12/27/2019"
   ]
  },
  {
   "cell_type": "code",
   "execution_count": 1,
   "metadata": {},
   "outputs": [
    {
     "data": {
      "text/plain": [
       "'rnbqkbnr/pppppppp/8/8/8/8/PPPPPPPP/RNBQKBNR w KQkq - 0 1'"
      ]
     },
     "execution_count": 1,
     "metadata": {},
     "output_type": "execute_result"
    }
   ],
   "source": [
    "import pyperclip\n",
    "from Chess import EmojiChess\n",
    "chs = EmojiChess()\n",
    "chs.to_string()"
   ]
  },
  {
   "cell_type": "code",
   "execution_count": 6,
   "metadata": {},
   "outputs": [
    {
     "name": "stdout",
     "output_type": "stream",
     "text": [
      "👊🏿🐎🙅🏿‍♂️👸🏿🤴🏿🙅🏿‍♂️🐎👊🏿\n",
      "👶🏿👶🏿👶🏿👶🏿⬛👶🏿👶🏿👶🏿\n",
      "⬜⬛⬜⬛⬜⬛⬜⬛\n",
      "⬛⬜⬛⬜👶🏿⬜⬛⬜\n",
      "⬜⬛⬜⬛👶🏻⬛⬜⬛\n",
      "⬛⬜⬛⬜⬛⬜⬛⬜\n",
      "👶🏻👶🏻👶🏻👶🏻⬜👶🏻👶🏻👶🏻\n",
      "👊🏻🦄🙅🏻‍♂️👸🏻🤴🏻🙅🏻‍♂️🦄👊🏻\n",
      "\n"
     ]
    }
   ],
   "source": [
    "chs.move('pe7e5')\n",
    "pyperclip.copy(chs.emoji_string())\n",
    "print(pyperclip.paste())"
   ]
  },
  {
   "cell_type": "code",
   "execution_count": 5,
   "metadata": {},
   "outputs": [
    {
     "data": {
      "text/plain": [
       "[['R', 'N', 'B', 'Q', 'K', 'B', 'N', 'R'],\n",
       " ['P', 'P', 'P', 'P', '', 'P', 'P', 'P'],\n",
       " ['', '', '', '', '', '', '', ''],\n",
       " ['', '', '', '', 'P', '', '', ''],\n",
       " ['', '', '', '', '', '', '', ''],\n",
       " ['', '', '', '', '', '', '', ''],\n",
       " ['p', 'p', 'p', 'p', 'p', 'p', 'p', 'p'],\n",
       " ['r', 'n', 'b', 'q', 'k', 'b', 'n', 'r']]"
      ]
     },
     "execution_count": 5,
     "metadata": {},
     "output_type": "execute_result"
    }
   ],
   "source": [
    "chs.board"
   ]
  },
  {
   "cell_type": "code",
   "execution_count": 6,
   "metadata": {},
   "outputs": [],
   "source": [
    "emoji_map = {}\n",
    "emoji_map['P'] = '\\U0001F476\\U0001F3FB'\n",
    "emoji_map['R'] = '\\U0001F44A\\U0001F3FB'\n",
    "emoji_map['N'] = '\\U0001F984'\n",
    "emoji_map['B'] = '\\U0001F645\\U0001F3FB\\U0000200D\\U00002642\\U0000FE0F'\n",
    "emoji_map['Q'] = '\\U0001F478\\U0001F3FB'\n",
    "emoji_map['K'] = '\\U0001F934\\U0001F3FB'\n",
    "\n",
    "emoji_map['p'] = '\\U0001F476\\U0001F3FF'\n",
    "emoji_map['r'] = '\\U0001F44A\\U0001F3FF'\n",
    "emoji_map['n'] = '\\U0001F40E'\n",
    "emoji_map['b'] = '\\U0001F645\\U0001F3FF\\U0000200D\\U00002642\\U0000FE0F'\n",
    "emoji_map['q'] = '\\U0001F478\\U0001F3FF'\n",
    "emoji_map['k'] = '\\U0001F934\\U0001F3FF'"
   ]
  }
 ],
 "metadata": {
  "kernelspec": {
   "display_name": "Python 3",
   "language": "python",
   "name": "python3"
  },
  "language_info": {
   "codemirror_mode": {
    "name": "ipython",
    "version": 3
   },
   "file_extension": ".py",
   "mimetype": "text/x-python",
   "name": "python",
   "nbconvert_exporter": "python",
   "pygments_lexer": "ipython3",
   "version": "3.7.3"
  }
 },
 "nbformat": 4,
 "nbformat_minor": 2
}
